{
 "cells": [
  {
   "cell_type": "markdown",
   "metadata": {},
   "source": [
    "# Demonstration of basic Web Scraping\n",
    "\n",
    "Here is the deal: learn in one notebook how to scrape information about your facebook friends (any information from birthday, to post-history) and structure the data! Let's take their current occupation as an example, just to lay out the approach!"
   ]
  },
  {
   "cell_type": "markdown",
   "metadata": {},
   "source": [
    "Because the desired list of occupations is not provided by facebook for download into a spreadsheet this is an example of unstructured data, and in this case we will **scrape** it from the web. Some websites have API (Application Programming Interface) that allow a user to retrieve structured data, for example directly querying their database. Levels and contraints of access depend on the specific website, and although facebook has an API we want to demonstrate here the skill of scraping data which is often useful in Data Science."
   ]
  },
  {
   "cell_type": "markdown",
   "metadata": {},
   "source": [
    "The basic concept is that data can be retrieved from a webpage programmatically by parsing the source-code (e.g. HTML). Since we might want to do this automatically on many pages we need to **access pages programmatically** via their URL and possibly move from page to page by jumping from one URL to the next.\n",
    "\n",
    "The simplest tool to access URLs in Python is **urllib3** or **requests**, but this methods have the drawback of yielding a different source code than what you would get by actually surfing with your browser. So I will now show you how to use **WebDriver** with **Selenium**, for the other mentioned libraries look at the end of this document."
   ]
  },
  {
   "cell_type": "markdown",
   "metadata": {
    "collapsed": false
   },
   "source": [
    "# 1. Webdriver from the Selenium library\n",
    "\n",
    "With the Selenium library, I could get the same code that I would obtain by manual browsing. So here is how it works:"
   ]
  },
  {
   "cell_type": "code",
   "execution_count": 3,
   "metadata": {
    "collapsed": false
   },
   "outputs": [],
   "source": [
    "from selenium import webdriver  \n",
    "from selenium.common.exceptions import NoSuchElementException  \n",
    "from selenium.webdriver.common.keys import Keys  \n",
    "from bs4 import BeautifulSoup\n",
    "from selenium.webdriver.chrome.options import Options\n",
    "import time\n",
    "\n",
    "_chrome_options = Options()"
   ]
  },
  {
   "cell_type": "markdown",
   "metadata": {},
   "source": [
    "Here we define the URL that we want to navigate to:"
   ]
  },
  {
   "cell_type": "code",
   "execution_count": 3,
   "metadata": {
    "collapsed": false
   },
   "outputs": [],
   "source": [
    "url = \"https://www.facebook.com\""
   ]
  },
  {
   "cell_type": "markdown",
   "metadata": {},
   "source": [
    "And here we define the webdriver, and the browser options that we want during surfing:"
   ]
  },
  {
   "cell_type": "code",
   "execution_count": 4,
   "metadata": {
    "collapsed": false
   },
   "outputs": [],
   "source": [
    "# setting this specific options avoids the browser to pop-up requests \n",
    "# for saving password and show notifications\n",
    "pref = {\"profile.default_content_setting_values.notifications\" : 2, \\\n",
    "       'credentials_enable_service': False, \\\n",
    "        'profile': {'password_manager_enabled': False}}\n",
    "_chrome_options.add_experimental_option('prefs',pref)\n",
    "\n",
    "# set up Web Driver with options\n",
    "driver = webdriver.Chrome(chrome_options=_chrome_options)\n",
    "driver.get(url)  "
   ]
  },
  {
   "cell_type": "markdown",
   "metadata": {},
   "source": [
    "Notice that after defining the webdriver we have to go get the URL. This will actually open a browser window and go to the URL.Now we just have to get the page_source and save it in a variable:"
   ]
  },
  {
   "cell_type": "code",
   "execution_count": 43,
   "metadata": {
    "collapsed": false
   },
   "outputs": [],
   "source": [
    "html_source = driver.page_source  "
   ]
  },
  {
   "cell_type": "markdown",
   "metadata": {},
   "source": [
    "A better way to visualize and navigate the source code is to use the BeaufitulSoup library. So we can create an object that we will call *soup* and call the method *prettify()* that will rearrange the code in its readable form:"
   ]
  },
  {
   "cell_type": "code",
   "execution_count": 44,
   "metadata": {
    "collapsed": false
   },
   "outputs": [
    {
     "name": "stdout",
     "output_type": "stream",
     "text": [
      "<!DOCTYPE html>\n",
      "<html class=\"\" id=\"facebook\" lang=\"en\" xmlns=\"http://www.w3.org/1999/xhtml\">\n",
      " <head>\n",
      "  <meta charset=\"utf-8\"/>\n",
      "  <meta content=\"origin-when-crossorigin\" id=\"meta_referrer\" name=\"referr\n"
     ]
    }
   ],
   "source": [
    "soup = BeautifulSoup(html_source,'html.parser')\n",
    "print(soup.prettify()[:200])"
   ]
  },
  {
   "cell_type": "markdown",
   "metadata": {},
   "source": [
    "In the case of facebook, this code will not open my profile, but will accually navigate to the login page, therefore we will have to instruct the **webdriver** to insert our credentials and then navigate to the pages we want, e.g. my friends list page:"
   ]
  },
  {
   "cell_type": "code",
   "execution_count": null,
   "metadata": {
    "collapsed": false
   },
   "outputs": [],
   "source": [
    "driver = webdriver.Chrome(chrome_options=_chrome_options) \n",
    "driver.get(url)  \n",
    "\n",
    "# wait for the login elements to load\n",
    "driver.implicitly_wait(12)\n",
    "\n",
    "# identify relevant elements\n",
    "email = driver.find_element_by_css_selector('input[type=email]')\n",
    "password = driver.find_element_by_css_selector('input[type=password]')\n",
    "login = driver.find_element_by_css_selector('input[value=\"Log In\"]')\n",
    "\n",
    "# insert the credentials (you will have to modify this)\n",
    "email.send_keys('name.lastname@gmail.com') #name.lastname\n",
    "password.send_keys('your_password!') #your_password\n",
    "\n",
    "# login\n",
    "login.click()\n",
    "\n",
    "# navigate to my friends list (you will have to get the right url for you)\n",
    "driver.get('https://www.facebook.com/...........a specific URL..........')\n",
    "#https://www.facebook.com/profile.php?id=.....blabla......._friends_tl\n",
    "\n",
    "# scroll to bottom of the page several times to load all of them (about 1000 friends)\n",
    "for i in range(65):\n",
    "    # wait for the login elements to load\n",
    "    # driver.implicitly_wait(10)\n",
    "    driver.execute_script(\"window.scrollTo(0, document.body.scrollHeight);\")\n",
    "    time.sleep(2)\n",
    "\n",
    "# take ascreenshot\n",
    "#driver.get_screenshot_as_file('yourName-profile.png')\n",
    "\n",
    "# get source-code from current page\n",
    "html_source = driver.page_source  \n",
    "\n",
    "# quit browser\n",
    "#driver.quit()"
   ]
  },
  {
   "cell_type": "markdown",
   "metadata": {},
   "source": [
    "Again we can visualize the result with BeautifulSoup:"
   ]
  },
  {
   "cell_type": "code",
   "execution_count": 94,
   "metadata": {
    "collapsed": false
   },
   "outputs": [
    {
     "name": "stdout",
     "output_type": "stream",
     "text": [
      "<!DOCTYPE html>\n",
      "<html class=\"\" id=\"facebook\" lang=\"it\" xmlns=\"http://www.w3.org/1999/xhtml\">\n",
      " <head>\n",
      "  <meta charset=\"utf-8\"/>\n",
      "  <meta content=\"origin-when-crossorigin\" id=\"meta_referrer\" name=\"referr\n"
     ]
    }
   ],
   "source": [
    "soup = BeautifulSoup(html_source,'html.parser')\n",
    "\n",
    "#save output to file\n",
    "with open(\"Output.txt\", \"w\") as text_file:\n",
    "    soupp = soup.prettify()\n",
    "    print(soupp.encode(\"utf-8\"), file=text_file)\n",
    "    \n",
    "# show some of the code\n",
    "print(soupp[:200])"
   ]
  },
  {
   "cell_type": "markdown",
   "metadata": {},
   "source": [
    "With this tool we can now navigate facebook as we were logged in our account. To go from one page to another we just need to figure out where to find the links. If I want to navigate from my profile to my friends list page, I need to parse the source code and find the URL that corresponds to that link. It is now a matter of finding the logic of where those URLs are located within the page, extract them from the soup with **regex** (Regular Expressions) and use another request to go to that page, get the source code from there, look for information or the next URL, and so on!\n",
    "\n",
    "Wellcome to the art of Web Scraping!"
   ]
  },
  {
   "cell_type": "markdown",
   "metadata": {},
   "source": [
    "# Sidenote: Parsing with RegEx\n",
    "\n",
    "Even if every page has a different code, there are patterns that stay the same. For every project we might want to search for similar information in very similar pages, therefore we can identify those code patterns that contain what we need and scrape it. There is no doubt that we need to learn now how to use RegEx or REGular EXpressions which is an obiquitous tool programming, independently of the language.\n",
    "\n",
    "Here we will implement this tool in Python to search my friends list for their facebook URL, because we want to first go to their profile, then to their info-page or get info from their walls."
   ]
  },
  {
   "cell_type": "code",
   "execution_count": 8,
   "metadata": {
    "collapsed": true
   },
   "outputs": [],
   "source": [
    "import re"
   ]
  },
  {
   "cell_type": "markdown",
   "metadata": {},
   "source": [
    "This imports the python regex library, if you are already familiar with this concept you can move own and are ready to do your own scraping now, otherwise stick around and see how exactly we can get the info we want. First we need to make a couple of examples to explain how parsing works.\n",
    "\n",
    "Let's pretend that we want to find the important dates and people names in the following text:\n",
    "\n",
    "*DNA was first isolated by Friedrich Miescher in 1869. Its molecular structure was identified by James Watson and Francis Crick from Cold Spring Harbor Laboratory in 1953, whose model-building efforts were guided by X-ray diffraction data acquired by Raymond Gosling, who was a post-graduate student of Rosalind Franklin.*\n",
    "\n",
    "We want to isolate the numbers and names, here is how we could start doing that:"
   ]
  },
  {
   "cell_type": "code",
   "execution_count": 51,
   "metadata": {
    "collapsed": false
   },
   "outputs": [
    {
     "data": {
      "text/plain": [
       "['1869', '1953']"
      ]
     },
     "execution_count": 51,
     "metadata": {},
     "output_type": "execute_result"
    }
   ],
   "source": [
    "text = 'DNA was first isolated by Friedrich Miescher in 1869.   \\\n",
    "        Its molecular structure was identified by James Watson  \\\n",
    "        and Francis Crick from Cold Spring Harbor Laboratory in \\\n",
    "        1953, whose model-building efforts were guided by X-ray \\\n",
    "        diffraction data acquired by Raymond Gosling, who was a \\\n",
    "        post-graduate student of Rosalind Franklin.'\n",
    "dates = re.findall('\\d{4}', text)\n",
    "dates"
   ]
  },
  {
   "cell_type": "markdown",
   "metadata": {},
   "source": [
    "Here we used the function re.findall(*pattern*, *string*), where we looked for the pattern *\\d{4}* in the string contained in *text*. Here we used one of the regex **identifiers** (\\d) which identifies digits, followed by the **modifier** ({4}) which specifies how many digits in a row constitutes our pattern. And the result is what we wanted.\n",
    "\n",
    "If we now wanted to find the names of people we would do:"
   ]
  },
  {
   "cell_type": "code",
   "execution_count": 55,
   "metadata": {
    "collapsed": false
   },
   "outputs": [
    {
     "data": {
      "text/plain": [
       "['Friedrich Miescher ',\n",
       " 'James Watson ',\n",
       " 'Francis Crick ',\n",
       " 'Cold Spring ',\n",
       " 'Harbor Laboratory ',\n",
       " 'Raymond Gosling,',\n",
       " 'Rosalind Franklin.']"
      ]
     },
     "execution_count": 55,
     "metadata": {},
     "output_type": "execute_result"
    }
   ],
   "source": [
    "names = re.findall('[A-Z][a-z]*\\s[A-Z][a-z]*\\W', text)\n",
    "names"
   ]
  },
  {
   "cell_type": "markdown",
   "metadata": {},
   "source": [
    "The pattern here is more complicated, but can be broken down like this:  \n",
    "**[A-Z]**   &nbsp;&nbsp; any capital letter followed by  \n",
    "**[a-z]**   &nbsp;&nbsp;&nbsp; any lower case letter with the modifier  \n",
    "**\\***      &nbsp;&nbsp;&nbsp;&nbsp;&nbsp;&nbsp;&nbsp;&nbsp;&nbsp; as many repetitions (of lower case letters)  \n",
    "**\\s**      &nbsp;&nbsp;&nbsp;&nbsp;&nbsp;&nbsp;&nbsp;&nbsp; a space  \n",
    "**[A-Z][a-z]\\***  &nbsp;&nbsp;&nbsp;&nbsp; anther word that starts with a capital letter  \n",
    "**\\W**      &nbsp;&nbsp;&nbsp;&nbsp;&nbsp;&nbsp;&nbsp; followed by any non-character\n",
    "\n",
    "For a full tutorial on Regex see: https://www.youtube.com/watch?v=sZyAn2TW7GY\n",
    "\n",
    "Notice that this code successfully avoids counting the capitalized words at the beginning of each frase, but fails in recognizing that **Cold Spring Harbor Laboratory** is not a person name. There are other clever things that can be implemented to clean this list programmatically, but goes beyond the scope of this brief tutorial."
   ]
  },
  {
   "cell_type": "markdown",
   "metadata": {},
   "source": [
    "# 2. Scraping for URLs"
   ]
  },
  {
   "cell_type": "markdown",
   "metadata": {
    "collapsed": true
   },
   "source": [
    "Now we can proceed at extracting data from the HTML file. So once we have the html of our \"friends-list\" page, we need to find a pattern in the HTML that is predictable for every entry of the list. Let's look at one such example:"
   ]
  },
  {
   "cell_type": "markdown",
   "metadata": {
    "collapsed": true
   },
   "source": [
    "It is pretty easy to notice that in the \"friend_list\" page every friend entry starts with the tag: **friend_list_item**, and the actual link to their profile appears after the first istance of the tag: **href=\"**, while their name will be just after the tag **aria-label=\"**. So now we can search for the strings that follow this tags and in particular for the strings comprised between quotes (\"string\").\n",
    "\n",
    "First lets extract the sections of code relative to different friends by scraping the code between the **friend_list_item** tags:"
   ]
  },
  {
   "cell_type": "code",
   "execution_count": 11,
   "metadata": {
    "collapsed": false
   },
   "outputs": [
    {
     "data": {
      "text/plain": [
       "1144"
      ]
     },
     "execution_count": 11,
     "metadata": {},
     "output_type": "execute_result"
    }
   ],
   "source": [
    "# we saved the result of section 1 in the file Output:\n",
    "soupp = open('Output.txt', 'r')\n",
    "friends = re.findall('(?<=friend_list_item)([\\s\\S]*?)(?=friend_list_item)',soupp.read())\n",
    "len(friends)"
   ]
  },
  {
   "cell_type": "markdown",
   "metadata": {},
   "source": [
    "Now we can search within each friend section the string that describe their profile URL and their facebook name, like this:"
   ]
  },
  {
   "cell_type": "code",
   "execution_count": 12,
   "metadata": {
    "collapsed": false
   },
   "outputs": [],
   "source": [
    "f_links = []\n",
    "f_names = []\n",
    "for each in friends:\n",
    "    pattern_name = '(?<=aria-label=\")[\\s\\S]*?(?=\")'\n",
    "    names = re.findall(pattern_name, each)\n",
    "    if names[0] not in f_names:\n",
    "        f_names.append(names[0])\n",
    "        pattern = '(?<=href=\").*?(?=\")'\n",
    "        links = re.findall(pattern, each)\n",
    "        if links[0] != '#':\n",
    "            f_links.append(links[0])\n",
    "        else:\n",
    "            f_links.append('NOT FOUND')\n",
    "    else:\n",
    "        pass"
   ]
  },
  {
   "cell_type": "markdown",
   "metadata": {},
   "source": [
    "We can merge this two lists into a more elegant data format called a DataFrame, from the Pandas library well known to DataScientists:"
   ]
  },
  {
   "cell_type": "code",
   "execution_count": 29,
   "metadata": {
    "collapsed": false
   },
   "outputs": [
    {
     "data": {
      "text/html": [
       "<div>\n",
       "<table border=\"1\" class=\"dataframe\">\n",
       "  <thead>\n",
       "    <tr style=\"text-align: right;\">\n",
       "      <th></th>\n",
       "      <th>link_prof</th>\n",
       "      <th>name</th>\n",
       "    </tr>\n",
       "  </thead>\n",
       "  <tbody>\n",
       "    <tr>\n",
       "      <th>226</th>\n",
       "      <td>https://www.facebook.com/aaron.haines.353?fref...</td>\n",
       "      <td>Aaron Haines</td>\n",
       "    </tr>\n",
       "    <tr>\n",
       "      <th>1061</th>\n",
       "      <td>https://www.facebook.com/azriel.sarsozo?fref=p...</td>\n",
       "      <td>Abriel Sarsozo</td>\n",
       "    </tr>\n",
       "    <tr>\n",
       "      <th>76</th>\n",
       "      <td>https://www.facebook.com/achille.boiano?fref=p...</td>\n",
       "      <td>Achille Boiano</td>\n",
       "    </tr>\n",
       "    <tr>\n",
       "      <th>199</th>\n",
       "      <td>https://www.facebook.com/adam.graham.52?fref=p...</td>\n",
       "      <td>Adam Graham</td>\n",
       "    </tr>\n",
       "    <tr>\n",
       "      <th>181</th>\n",
       "      <td>https://www.facebook.com/adam.stooke?fref=pb&amp;a...</td>\n",
       "      <td>Adam Stooke</td>\n",
       "    </tr>\n",
       "  </tbody>\n",
       "</table>\n",
       "</div>"
      ],
      "text/plain": [
       "                                              link_prof            name\n",
       "226   https://www.facebook.com/aaron.haines.353?fref...    Aaron Haines\n",
       "1061  https://www.facebook.com/azriel.sarsozo?fref=p...  Abriel Sarsozo\n",
       "76    https://www.facebook.com/achille.boiano?fref=p...  Achille Boiano\n",
       "199   https://www.facebook.com/adam.graham.52?fref=p...     Adam Graham\n",
       "181   https://www.facebook.com/adam.stooke?fref=pb&a...     Adam Stooke"
      ]
     },
     "execution_count": 29,
     "metadata": {},
     "output_type": "execute_result"
    }
   ],
   "source": [
    "import pandas as pd\n",
    "\n",
    "links = pd.DataFrame({'name': f_names, 'link_prof': f_links,})\n",
    "links.sort_values(by = 'name')[:5]"
   ]
  },
  {
   "cell_type": "markdown",
   "metadata": {},
   "source": [
    "The profile URLs that have not been found correspond to deactivated accounts:"
   ]
  },
  {
   "cell_type": "code",
   "execution_count": 24,
   "metadata": {
    "collapsed": false
   },
   "outputs": [
    {
     "data": {
      "text/html": [
       "<div>\n",
       "<table border=\"1\" class=\"dataframe\">\n",
       "  <thead>\n",
       "    <tr style=\"text-align: right;\">\n",
       "      <th></th>\n",
       "      <th>link_prof</th>\n",
       "      <th>name</th>\n",
       "    </tr>\n",
       "  </thead>\n",
       "  <tbody>\n",
       "    <tr>\n",
       "      <th>155</th>\n",
       "      <td>NOT FOUND</td>\n",
       "      <td>Luciano Silvestri</td>\n",
       "    </tr>\n",
       "    <tr>\n",
       "      <th>249</th>\n",
       "      <td>NOT FOUND</td>\n",
       "      <td>Jessica Bishoff</td>\n",
       "    </tr>\n",
       "    <tr>\n",
       "      <th>276</th>\n",
       "      <td>NOT FOUND</td>\n",
       "      <td>Fiorella Davila</td>\n",
       "    </tr>\n",
       "  </tbody>\n",
       "</table>\n",
       "</div>"
      ],
      "text/plain": [
       "     link_prof               name\n",
       "155  NOT FOUND  Luciano Silvestri\n",
       "249  NOT FOUND    Jessica Bishoff\n",
       "276  NOT FOUND    Fiorella Davila"
      ]
     },
     "execution_count": 24,
     "metadata": {},
     "output_type": "execute_result"
    }
   ],
   "source": [
    "links[links['link_prof']=='NOT FOUND'][2:5]"
   ]
  },
  {
   "cell_type": "markdown",
   "metadata": {},
   "source": [
    "# Scraping from a list of WebPages\n",
    "\n",
    "Now that we have the links to my friends list, we can programmatically navigate to their profile, or to any other related page and scrape information from it. Just as a demonstration we could try and get their occupation. \n",
    "\n",
    "First of all we need to figure out how to get that information from one of those pages, and then we can loop that function through all of our friends profile URLs!\n",
    "\n",
    "Here is one of the links:"
   ]
  },
  {
   "cell_type": "code",
   "execution_count": 25,
   "metadata": {
    "collapsed": false
   },
   "outputs": [
    {
     "data": {
      "text/html": [
       "<div>\n",
       "<table border=\"1\" class=\"dataframe\">\n",
       "  <thead>\n",
       "    <tr style=\"text-align: right;\">\n",
       "      <th></th>\n",
       "      <th>link_prof</th>\n",
       "      <th>name</th>\n",
       "    </tr>\n",
       "  </thead>\n",
       "  <tbody>\n",
       "    <tr>\n",
       "      <th>534</th>\n",
       "      <td>https://www.facebook.com/alfonso.corrado.3?fre...</td>\n",
       "      <td>Alfonso Corrado</td>\n",
       "    </tr>\n",
       "  </tbody>\n",
       "</table>\n",
       "</div>"
      ],
      "text/plain": [
       "                                             link_prof             name\n",
       "534  https://www.facebook.com/alfonso.corrado.3?fre...  Alfonso Corrado"
      ]
     },
     "execution_count": 25,
     "metadata": {},
     "output_type": "execute_result"
    }
   ],
   "source": [
    "links[534:535]"
   ]
  },
  {
   "cell_type": "markdown",
   "metadata": {},
   "source": [
    "Now let's add some other columns to our dataframe where we can store the link to the info_page, the birthday, and other info like that."
   ]
  },
  {
   "cell_type": "code",
   "execution_count": 51,
   "metadata": {
    "collapsed": false
   },
   "outputs": [
    {
     "data": {
      "text/html": [
       "<div>\n",
       "<table border=\"1\" class=\"dataframe\">\n",
       "  <thead>\n",
       "    <tr style=\"text-align: right;\">\n",
       "      <th></th>\n",
       "      <th>link_prof</th>\n",
       "      <th>name</th>\n",
       "      <th>info_link</th>\n",
       "      <th>birthday</th>\n",
       "      <th>f_acname</th>\n",
       "    </tr>\n",
       "  </thead>\n",
       "  <tbody>\n",
       "    <tr>\n",
       "      <th>226</th>\n",
       "      <td>https://www.facebook.com/aaron.haines.353?fref...</td>\n",
       "      <td>Aaron Haines</td>\n",
       "      <td></td>\n",
       "      <td>NaN</td>\n",
       "      <td></td>\n",
       "    </tr>\n",
       "    <tr>\n",
       "      <th>1061</th>\n",
       "      <td>https://www.facebook.com/azriel.sarsozo?fref=p...</td>\n",
       "      <td>Abriel Sarsozo</td>\n",
       "      <td></td>\n",
       "      <td>NaN</td>\n",
       "      <td></td>\n",
       "    </tr>\n",
       "    <tr>\n",
       "      <th>76</th>\n",
       "      <td>https://www.facebook.com/achille.boiano?fref=p...</td>\n",
       "      <td>Achille Boiano</td>\n",
       "      <td></td>\n",
       "      <td>NaN</td>\n",
       "      <td></td>\n",
       "    </tr>\n",
       "  </tbody>\n",
       "</table>\n",
       "</div>"
      ],
      "text/plain": [
       "                                              link_prof            name  \\\n",
       "226   https://www.facebook.com/aaron.haines.353?fref...    Aaron Haines   \n",
       "1061  https://www.facebook.com/azriel.sarsozo?fref=p...  Abriel Sarsozo   \n",
       "76    https://www.facebook.com/achille.boiano?fref=p...  Achille Boiano   \n",
       "\n",
       "     info_link  birthday f_acname  \n",
       "226                  NaN           \n",
       "1061                 NaN           \n",
       "76                   NaN           "
      ]
     },
     "execution_count": 51,
     "metadata": {},
     "output_type": "execute_result"
    }
   ],
   "source": [
    "import numpy as np\n",
    "\n",
    "links['info_link'] = \"\"\n",
    "links['birthday']= np.nan\n",
    "links['f_acname']= \"\"\n",
    "links.sort_values(by = 'name')[:3]"
   ]
  },
  {
   "cell_type": "markdown",
   "metadata": {},
   "source": [
    "Now we should try and populate those columns one at a time, let's try with the info_link, which is the link to the information page for that account."
   ]
  },
  {
   "cell_type": "code",
   "execution_count": 67,
   "metadata": {
    "collapsed": false
   },
   "outputs": [],
   "source": [
    "driver = webdriver.Chrome(chrome_options=_chrome_options) \n",
    "\n",
    "url = \"https://www.facebook.com\"\n",
    "\n",
    "driver.get(url)\n",
    "    \n",
    "# wait for the elements to load\n",
    "driver.implicitly_wait(12)\n",
    "    \n",
    "# identify relevant elements\n",
    "email = driver.find_element_by_css_selector('input[type=email]')\n",
    "password = driver.find_element_by_css_selector('input[type=password]')\n",
    "login = driver.find_element_by_css_selector('input[value=\"Log In\"]')\n",
    "\n",
    "# insert the credentials (you will have to modify this)\n",
    "email.send_keys('name.lastname@gmail.com') #name.lastname\n",
    "password.send_keys('your_password!') #your_password\n",
    "\n",
    "# login\n",
    "login.click()\n",
    "\n",
    "# Iterate through the links in the DataFrame\n",
    "for index, row in links.iterrows():\n",
    "    \n",
    "    if index > 117 and row['link_prof'] != 'NOT FOUND':\n",
    "        \n",
    "        driver.get(row['link_prof'])\n",
    "        info_source = driver.page_source \n",
    "        \n",
    "        # get link to info-page\n",
    "        info_pattern = '(?<=data-tab-key=\"about\"\\shref=\")http.*?(?=\")\\\n",
    "                    |(?<=href=\")?http\\w?://www\\.facebook\\S*?(?=\"\\sdata-tab-key=\"about\")'\n",
    "        info_page = re.findall(info_pattern, info_source)\n",
    "        \n",
    "        # get account idenfier name\n",
    "        f_account_name = re.findall('(?<=facebook\\.com/).*?(?=/)',info_page[0])\n",
    "    \n",
    "        try:\n",
    "            links.loc[index, 'info_link'] = info_page[0]\n",
    "        except:\n",
    "            links.loc[index, 'info_link'] = 'NOT FOUND'\n",
    "        try:\n",
    "            links.loc[index, 'f_acname'] = f_account_name[0]\n",
    "        except:\n",
    "            links.loc[index, 'f_acname'] = 'NOT FOUND'"
   ]
  },
  {
   "cell_type": "markdown",
   "metadata": {},
   "source": [
    "Notice that while the Regex to find the right URL is a little complicated, the one to find the account name is easier. In fact, once we find the profile URL:"
   ]
  },
  {
   "cell_type": "code",
   "execution_count": 90,
   "metadata": {
    "collapsed": false
   },
   "outputs": [
    {
     "data": {
      "text/plain": [
       "'https://www.facebook.com/fujhika.tinoco/about?lst=697975281%3A651339901%3A1497298589'"
      ]
     },
     "execution_count": 90,
     "metadata": {},
     "output_type": "execute_result"
    }
   ],
   "source": [
    "info_page[0]"
   ]
  },
  {
   "cell_type": "markdown",
   "metadata": {},
   "source": [
    "The name can be estracted from there with this Regex:"
   ]
  },
  {
   "cell_type": "code",
   "execution_count": 91,
   "metadata": {
    "collapsed": false
   },
   "outputs": [
    {
     "data": {
      "text/plain": [
       "'fujhika.tinoco'"
      ]
     },
     "execution_count": 91,
     "metadata": {},
     "output_type": "execute_result"
    }
   ],
   "source": [
    "f_account_name = re.findall('(?<=facebook\\.com/).*?(?=/)',info_page[0])\n",
    "f_account_name[0]"
   ]
  },
  {
   "cell_type": "markdown",
   "metadata": {},
   "source": [
    "For cosmetic and utility reasons we want to give a name to the index column:"
   ]
  },
  {
   "cell_type": "code",
   "execution_count": 79,
   "metadata": {
    "collapsed": true
   },
   "outputs": [],
   "source": [
    "links.index.name = 'f_ID'"
   ]
  },
  {
   "cell_type": "markdown",
   "metadata": {},
   "source": [
    "We can also explore if any of the information was not found. And we find out that that happened 44 times on the f_acname:"
   ]
  },
  {
   "cell_type": "code",
   "execution_count": 89,
   "metadata": {
    "collapsed": false
   },
   "outputs": [
    {
     "data": {
      "text/plain": [
       "link_prof    44\n",
       "name         44\n",
       "info_link    44\n",
       "birthday      0\n",
       "f_acname     44\n",
       "dtype: int64"
      ]
     },
     "execution_count": 89,
     "metadata": {},
     "output_type": "execute_result"
    }
   ],
   "source": [
    "links[links['f_acname']=='NOT FOUND'].count() "
   ]
  },
  {
   "cell_type": "markdown",
   "metadata": {},
   "source": [
    "This is because in those cases the info_page link has a different format:"
   ]
  },
  {
   "cell_type": "code",
   "execution_count": 95,
   "metadata": {
    "collapsed": false
   },
   "outputs": [
    {
     "data": {
      "text/html": [
       "<div>\n",
       "<table border=\"1\" class=\"dataframe\">\n",
       "  <thead>\n",
       "    <tr style=\"text-align: right;\">\n",
       "      <th></th>\n",
       "      <th>link_prof</th>\n",
       "      <th>name</th>\n",
       "      <th>info_link</th>\n",
       "      <th>birthday</th>\n",
       "      <th>f_acname</th>\n",
       "    </tr>\n",
       "    <tr>\n",
       "      <th>f_ID</th>\n",
       "      <th></th>\n",
       "      <th></th>\n",
       "      <th></th>\n",
       "      <th></th>\n",
       "      <th></th>\n",
       "    </tr>\n",
       "  </thead>\n",
       "  <tbody>\n",
       "    <tr>\n",
       "      <th>1062</th>\n",
       "      <td>https://www.facebook.com/profile.php?id=153154...</td>\n",
       "      <td>Sean Taylor</td>\n",
       "      <td>https://www.facebook.com/profile.php?id=153154...</td>\n",
       "      <td>NaN</td>\n",
       "      <td>NOT FOUND</td>\n",
       "    </tr>\n",
       "  </tbody>\n",
       "</table>\n",
       "</div>"
      ],
      "text/plain": [
       "                                              link_prof         name  \\\n",
       "f_ID                                                                   \n",
       "1062  https://www.facebook.com/profile.php?id=153154...  Sean Taylor   \n",
       "\n",
       "                                              info_link  birthday   f_acname  \n",
       "f_ID                                                                          \n",
       "1062  https://www.facebook.com/profile.php?id=153154...       NaN  NOT FOUND  "
      ]
     },
     "execution_count": 95,
     "metadata": {},
     "output_type": "execute_result"
    }
   ],
   "source": [
    "links[links['f_acname']=='NOT FOUND'][-1:]"
   ]
  },
  {
   "cell_type": "markdown",
   "metadata": {},
   "source": [
    "If we are going to keep working on this project at another time, this is a good point to save our DataFrame to a file that we can retrieve once we reopen the Jupyter Notebook:"
   ]
  },
  {
   "cell_type": "code",
   "execution_count": 81,
   "metadata": {
    "collapsed": true
   },
   "outputs": [],
   "source": [
    "# save dataFrame to file in working directory\n",
    "links.to_csv('Links_in_progress')"
   ]
  },
  {
   "cell_type": "code",
   "execution_count": 85,
   "metadata": {
    "collapsed": false
   },
   "outputs": [
    {
     "data": {
      "text/html": [
       "<div>\n",
       "<table border=\"1\" class=\"dataframe\">\n",
       "  <thead>\n",
       "    <tr style=\"text-align: right;\">\n",
       "      <th></th>\n",
       "      <th>link_prof</th>\n",
       "      <th>name</th>\n",
       "      <th>info_link</th>\n",
       "      <th>birthday</th>\n",
       "      <th>f_acname</th>\n",
       "    </tr>\n",
       "    <tr>\n",
       "      <th>f_ID</th>\n",
       "      <th></th>\n",
       "      <th></th>\n",
       "      <th></th>\n",
       "      <th></th>\n",
       "      <th></th>\n",
       "    </tr>\n",
       "  </thead>\n",
       "  <tbody>\n",
       "    <tr>\n",
       "      <th>1124</th>\n",
       "      <td>https://www.facebook.com/giuseppe.raia.98?fref...</td>\n",
       "      <td>Giuseppe Raia</td>\n",
       "      <td>https://www.facebook.com/giuseppe.raia.98/abou...</td>\n",
       "      <td>NaN</td>\n",
       "      <td>giuseppe.raia.98</td>\n",
       "    </tr>\n",
       "    <tr>\n",
       "      <th>1125</th>\n",
       "      <td>NOT FOUND</td>\n",
       "      <td>Giancarlo Cerulo</td>\n",
       "      <td>NaN</td>\n",
       "      <td>NaN</td>\n",
       "      <td>NaN</td>\n",
       "    </tr>\n",
       "    <tr>\n",
       "      <th>1126</th>\n",
       "      <td>https://www.facebook.com/fujhika.tinoco?fref=p...</td>\n",
       "      <td>Fujhika Tinoco</td>\n",
       "      <td>https://www.facebook.com/fujhika.tinoco/about?...</td>\n",
       "      <td>NaN</td>\n",
       "      <td>fujhika.tinoco</td>\n",
       "    </tr>\n",
       "  </tbody>\n",
       "</table>\n",
       "</div>"
      ],
      "text/plain": [
       "                                              link_prof              name  \\\n",
       "f_ID                                                                        \n",
       "1124  https://www.facebook.com/giuseppe.raia.98?fref...     Giuseppe Raia   \n",
       "1125                                          NOT FOUND  Giancarlo Cerulo   \n",
       "1126  https://www.facebook.com/fujhika.tinoco?fref=p...    Fujhika Tinoco   \n",
       "\n",
       "                                              info_link  birthday  \\\n",
       "f_ID                                                                \n",
       "1124  https://www.facebook.com/giuseppe.raia.98/abou...       NaN   \n",
       "1125                                                NaN       NaN   \n",
       "1126  https://www.facebook.com/fujhika.tinoco/about?...       NaN   \n",
       "\n",
       "              f_acname  \n",
       "f_ID                    \n",
       "1124  giuseppe.raia.98  \n",
       "1125               NaN  \n",
       "1126    fujhika.tinoco  "
      ]
     },
     "execution_count": 85,
     "metadata": {},
     "output_type": "execute_result"
    }
   ],
   "source": [
    "# retrieve DataFrame from csv file\n",
    "data = pd.read_csv('Links_in_progress', index_col = 'f_ID')\n",
    "data[-3:]"
   ]
  },
  {
   "cell_type": "markdown",
   "metadata": {},
   "source": [
    "# Working with DATE datatypes\n",
    "\n",
    "Now we will scrape for birthdates, load them in the dataframe in a datatype specific for dates...."
   ]
  },
  {
   "cell_type": "code",
   "execution_count": 2,
   "metadata": {
    "collapsed": false
   },
   "outputs": [
    {
     "data": {
      "text/html": [
       "<div>\n",
       "<table border=\"1\" class=\"dataframe\">\n",
       "  <thead>\n",
       "    <tr style=\"text-align: right;\">\n",
       "      <th></th>\n",
       "      <th>link_prof</th>\n",
       "      <th>name</th>\n",
       "      <th>info_link</th>\n",
       "      <th>birthday</th>\n",
       "      <th>f_acname</th>\n",
       "    </tr>\n",
       "    <tr>\n",
       "      <th>f_ID</th>\n",
       "      <th></th>\n",
       "      <th></th>\n",
       "      <th></th>\n",
       "      <th></th>\n",
       "      <th></th>\n",
       "    </tr>\n",
       "  </thead>\n",
       "  <tbody>\n",
       "    <tr>\n",
       "      <th>1124</th>\n",
       "      <td>https://www.facebook.com/giuseppe.raia.98?fref...</td>\n",
       "      <td>Giuseppe Raia</td>\n",
       "      <td>https://www.facebook.com/giuseppe.raia.98/abou...</td>\n",
       "      <td>NaN</td>\n",
       "      <td>giuseppe.raia.98</td>\n",
       "    </tr>\n",
       "    <tr>\n",
       "      <th>1125</th>\n",
       "      <td>NOT FOUND</td>\n",
       "      <td>Giancarlo Cerulo</td>\n",
       "      <td>NaN</td>\n",
       "      <td>NaN</td>\n",
       "      <td>NaN</td>\n",
       "    </tr>\n",
       "    <tr>\n",
       "      <th>1126</th>\n",
       "      <td>https://www.facebook.com/fujhika.tinoco?fref=p...</td>\n",
       "      <td>Fujhika Tinoco</td>\n",
       "      <td>https://www.facebook.com/fujhika.tinoco/about?...</td>\n",
       "      <td>NaN</td>\n",
       "      <td>fujhika.tinoco</td>\n",
       "    </tr>\n",
       "  </tbody>\n",
       "</table>\n",
       "</div>"
      ],
      "text/plain": [
       "                                              link_prof              name  \\\n",
       "f_ID                                                                        \n",
       "1124  https://www.facebook.com/giuseppe.raia.98?fref...     Giuseppe Raia   \n",
       "1125                                          NOT FOUND  Giancarlo Cerulo   \n",
       "1126  https://www.facebook.com/fujhika.tinoco?fref=p...    Fujhika Tinoco   \n",
       "\n",
       "                                              info_link  birthday  \\\n",
       "f_ID                                                                \n",
       "1124  https://www.facebook.com/giuseppe.raia.98/abou...       NaN   \n",
       "1125                                                NaN       NaN   \n",
       "1126  https://www.facebook.com/fujhika.tinoco/about?...       NaN   \n",
       "\n",
       "              f_acname  \n",
       "f_ID                    \n",
       "1124  giuseppe.raia.98  \n",
       "1125               NaN  \n",
       "1126    fujhika.tinoco  "
      ]
     },
     "execution_count": 2,
     "metadata": {},
     "output_type": "execute_result"
    }
   ],
   "source": [
    "import pandas as pd\n",
    "\n",
    "# retrieve DataFrame from csv file\n",
    "data = pd.read_csv('Links_in_progress', index_col = 'f_ID')\n",
    "data[-3:]"
   ]
  },
  {
   "cell_type": "code",
   "execution_count": 5,
   "metadata": {
    "collapsed": false
   },
   "outputs": [
    {
     "data": {
      "text/plain": [
       "'http'"
      ]
     },
     "execution_count": 5,
     "metadata": {},
     "output_type": "execute_result"
    }
   ],
   "source": [
    "data['info_link'][0][:4]"
   ]
  },
  {
   "cell_type": "code",
   "execution_count": 57,
   "metadata": {
    "collapsed": false
   },
   "outputs": [],
   "source": [
    "driver = webdriver.Chrome(chrome_options=_chrome_options) \n",
    "\n",
    "url = \"https://www.facebook.com\"\n",
    "\n",
    "driver.get(url)\n",
    "    \n",
    "# wait for the elements to load\n",
    "driver.implicitly_wait(12)\n",
    "    \n",
    "# identify relevant elements\n",
    "email = driver.find_element_by_css_selector('input[type=email]')\n",
    "password = driver.find_element_by_css_selector('input[type=password]')\n",
    "login = driver.find_element_by_css_selector('input[value=\"Log In\"]')\n",
    "\n",
    "# insert the credentials (you will have to modify this)\n",
    "email.send_keys('name.lastname@gmail.com') #name.lastname\n",
    "password.send_keys('your_password!') #your_password\n",
    "\n",
    "# login\n",
    "login.click()\n",
    "    \n",
    "for index, row in data.iterrows():\n",
    "    \n",
    "    if index > 115 and row['info_link'] != 'NOT FOUND' and not pd.isnull(row['info_link']):\n",
    "        \n",
    "        driver.get(row['info_link'])\n",
    "        info_source = driver.page_source \n",
    "        pattern = '(?<=di\\snascita</span></div><div>)\\d{1,2}\\s[A-Za-z]{3,10}.*?(?=<)'\n",
    "        nascita = re.findall(pattern, info_source)\n",
    "        \n",
    "        try:\n",
    "            data.loc[index, 'birthday'] = nascita[0]\n",
    "        except:\n",
    "            data.loc[index, 'birthday'] = 'NOT FOUND'        "
   ]
  },
  {
   "cell_type": "code",
   "execution_count": 60,
   "metadata": {
    "collapsed": false
   },
   "outputs": [],
   "source": [
    "# save dataFrame to file in working directory\n",
    "data.to_csv('birthdate_in_progress')"
   ]
  },
  {
   "cell_type": "markdown",
   "metadata": {},
   "source": [
    "Now we have all the dates in the DataFrame:"
   ]
  },
  {
   "cell_type": "code",
   "execution_count": 63,
   "metadata": {
    "collapsed": false
   },
   "outputs": [
    {
     "data": {
      "text/html": [
       "<div>\n",
       "<table border=\"1\" class=\"dataframe\">\n",
       "  <thead>\n",
       "    <tr style=\"text-align: right;\">\n",
       "      <th></th>\n",
       "      <th>link_prof</th>\n",
       "      <th>name</th>\n",
       "      <th>info_link</th>\n",
       "      <th>birthday</th>\n",
       "      <th>f_acname</th>\n",
       "    </tr>\n",
       "    <tr>\n",
       "      <th>f_ID</th>\n",
       "      <th></th>\n",
       "      <th></th>\n",
       "      <th></th>\n",
       "      <th></th>\n",
       "      <th></th>\n",
       "    </tr>\n",
       "  </thead>\n",
       "  <tbody>\n",
       "    <tr>\n",
       "      <th>1124</th>\n",
       "      <td>https://www.facebook.com/giuseppe.raia.98?fref...</td>\n",
       "      <td>Giuseppe Raia</td>\n",
       "      <td>https://www.facebook.com/giuseppe.raia.98/abou...</td>\n",
       "      <td>29 luglio 1985</td>\n",
       "      <td>giuseppe.raia.98</td>\n",
       "    </tr>\n",
       "    <tr>\n",
       "      <th>1125</th>\n",
       "      <td>NOT FOUND</td>\n",
       "      <td>Giancarlo Cerulo</td>\n",
       "      <td>NaN</td>\n",
       "      <td>NaN</td>\n",
       "      <td>NaN</td>\n",
       "    </tr>\n",
       "    <tr>\n",
       "      <th>1126</th>\n",
       "      <td>https://www.facebook.com/fujhika.tinoco?fref=p...</td>\n",
       "      <td>Fujhika Tinoco</td>\n",
       "      <td>https://www.facebook.com/fujhika.tinoco/about?...</td>\n",
       "      <td>21 settembre</td>\n",
       "      <td>fujhika.tinoco</td>\n",
       "    </tr>\n",
       "  </tbody>\n",
       "</table>\n",
       "</div>"
      ],
      "text/plain": [
       "                                              link_prof              name  \\\n",
       "f_ID                                                                        \n",
       "1124  https://www.facebook.com/giuseppe.raia.98?fref...     Giuseppe Raia   \n",
       "1125                                          NOT FOUND  Giancarlo Cerulo   \n",
       "1126  https://www.facebook.com/fujhika.tinoco?fref=p...    Fujhika Tinoco   \n",
       "\n",
       "                                              info_link        birthday  \\\n",
       "f_ID                                                                      \n",
       "1124  https://www.facebook.com/giuseppe.raia.98/abou...  29 luglio 1985   \n",
       "1125                                                NaN             NaN   \n",
       "1126  https://www.facebook.com/fujhika.tinoco/about?...    21 settembre   \n",
       "\n",
       "              f_acname  \n",
       "f_ID                    \n",
       "1124  giuseppe.raia.98  \n",
       "1125               NaN  \n",
       "1126    fujhika.tinoco  "
      ]
     },
     "execution_count": 63,
     "metadata": {},
     "output_type": "execute_result"
    }
   ],
   "source": [
    "data[-3:]"
   ]
  },
  {
   "cell_type": "markdown",
   "metadata": {},
   "source": [
    "The dates are in string format. We can change that to be in a different datatype:"
   ]
  },
  {
   "cell_type": "code",
   "execution_count": 4,
   "metadata": {
    "collapsed": false
   },
   "outputs": [
    {
     "data": {
      "text/plain": [
       "'Italian_Switzerland.1252'"
      ]
     },
     "execution_count": 4,
     "metadata": {},
     "output_type": "execute_result"
    }
   ],
   "source": [
    "from datetime import date, timedelta\n",
    "import datetime as dt\n",
    "import locale\n",
    "\n",
    "# since we are getting the dates in Italian, we have to set the Locale\n",
    "locale.setlocale(locale.LC_TIME, \"italian-swiss\")"
   ]
  },
  {
   "cell_type": "code",
   "execution_count": 7,
   "metadata": {
    "collapsed": false
   },
   "outputs": [],
   "source": [
    "# Transform dates into datetime objects\n",
    "for index, row in data.iterrows():\n",
    "    try:\n",
    "        date = dt.datetime.strptime(row['birthday'], '%d %B %Y')\n",
    "        data.loc[index, 'birthday'] = date\n",
    "    except:\n",
    "        try:\n",
    "            # if the year is not present (default will be 1900)\n",
    "            date = dt.datetime.strptime(row['birthday'], '%d %B')\n",
    "            data.loc[index, 'birthday'] = date\n",
    "        except:\n",
    "            pass"
   ]
  },
  {
   "cell_type": "markdown",
   "metadata": {},
   "source": [
    "The previous code successfully replaces the birthday string with a datetime datatype. And here are some examples:"
   ]
  },
  {
   "cell_type": "code",
   "execution_count": 16,
   "metadata": {
    "collapsed": false
   },
   "outputs": [
    {
     "data": {
      "text/html": [
       "<div>\n",
       "<table border=\"1\" class=\"dataframe\">\n",
       "  <thead>\n",
       "    <tr style=\"text-align: right;\">\n",
       "      <th></th>\n",
       "      <th>link_prof</th>\n",
       "      <th>name</th>\n",
       "      <th>info_link</th>\n",
       "      <th>birthday</th>\n",
       "      <th>f_acname</th>\n",
       "    </tr>\n",
       "    <tr>\n",
       "      <th>f_ID</th>\n",
       "      <th></th>\n",
       "      <th></th>\n",
       "      <th></th>\n",
       "      <th></th>\n",
       "      <th></th>\n",
       "    </tr>\n",
       "  </thead>\n",
       "  <tbody>\n",
       "    <tr>\n",
       "      <th>1124</th>\n",
       "      <td>https://www.facebook.com/giuseppe.raia.98?fref...</td>\n",
       "      <td>Giuseppe Raia</td>\n",
       "      <td>https://www.facebook.com/giuseppe.raia.98/abou...</td>\n",
       "      <td>1985-07-29 00:00:00</td>\n",
       "      <td>giuseppe.raia.98</td>\n",
       "    </tr>\n",
       "    <tr>\n",
       "      <th>1125</th>\n",
       "      <td>NOT FOUND</td>\n",
       "      <td>Giancarlo Cerulo</td>\n",
       "      <td>NaN</td>\n",
       "      <td>NaN</td>\n",
       "      <td>NaN</td>\n",
       "    </tr>\n",
       "    <tr>\n",
       "      <th>1126</th>\n",
       "      <td>https://www.facebook.com/fujhika.tinoco?fref=p...</td>\n",
       "      <td>Fujhika Tinoco</td>\n",
       "      <td>https://www.facebook.com/fujhika.tinoco/about?...</td>\n",
       "      <td>1900-09-21 00:00:00</td>\n",
       "      <td>fujhika.tinoco</td>\n",
       "    </tr>\n",
       "  </tbody>\n",
       "</table>\n",
       "</div>"
      ],
      "text/plain": [
       "                                              link_prof              name  \\\n",
       "f_ID                                                                        \n",
       "1124  https://www.facebook.com/giuseppe.raia.98?fref...     Giuseppe Raia   \n",
       "1125                                          NOT FOUND  Giancarlo Cerulo   \n",
       "1126  https://www.facebook.com/fujhika.tinoco?fref=p...    Fujhika Tinoco   \n",
       "\n",
       "                                              info_link             birthday  \\\n",
       "f_ID                                                                           \n",
       "1124  https://www.facebook.com/giuseppe.raia.98/abou...  1985-07-29 00:00:00   \n",
       "1125                                                NaN                  NaN   \n",
       "1126  https://www.facebook.com/fujhika.tinoco/about?...  1900-09-21 00:00:00   \n",
       "\n",
       "              f_acname  \n",
       "f_ID                    \n",
       "1124  giuseppe.raia.98  \n",
       "1125               NaN  \n",
       "1126    fujhika.tinoco  "
      ]
     },
     "execution_count": 16,
     "metadata": {},
     "output_type": "execute_result"
    }
   ],
   "source": [
    "data[-3:]"
   ]
  },
  {
   "cell_type": "markdown",
   "metadata": {},
   "source": [
    "Notice that for people where the year was not present, the default year 1900 was placed. We can check how many friends actually don't have a birthday, either because the account doesn't exist or because the birthday was not available:"
   ]
  },
  {
   "cell_type": "code",
   "execution_count": 18,
   "metadata": {
    "collapsed": false
   },
   "outputs": [
    {
     "data": {
      "text/plain": [
       "link_prof    250\n",
       "name         250\n",
       "info_link    197\n",
       "birthday     197\n",
       "f_acname     197\n",
       "dtype: int64"
      ]
     },
     "execution_count": 18,
     "metadata": {},
     "output_type": "execute_result"
    }
   ],
   "source": [
    "data.loc[data['birthday'].apply(lambda x: type(x)!= dt.datetime)].count()"
   ]
  },
  {
   "cell_type": "code",
   "execution_count": 187,
   "metadata": {
    "collapsed": true
   },
   "outputs": [],
   "source": [
    "# save dataFrame to file in working directory\n",
    "data.to_csv('birthdate_df')"
   ]
  },
  {
   "cell_type": "code",
   "execution_count": 2,
   "metadata": {
    "collapsed": false
   },
   "outputs": [],
   "source": [
    "import pandas as pd\n",
    "# retrieve DataFrame from csv file\n",
    "data = pd.read_csv('birthdate_df', index_col = 'f_ID')"
   ]
  },
  {
   "cell_type": "markdown",
   "metadata": {},
   "source": [
    "When we save the file the datatype might be lost so we will have to re-parse the column, the good thing is that now its all in the same format:"
   ]
  },
  {
   "cell_type": "code",
   "execution_count": 17,
   "metadata": {
    "collapsed": true
   },
   "outputs": [],
   "source": [
    "# Transform dates into datetime objects\n",
    "for index, row in data.iterrows():\n",
    "    try:\n",
    "        date = dt.datetime.strptime(row['birthday'], '%Y-%m-%d %H:%M:%S')\n",
    "        data.loc[index, 'birthday'] = date\n",
    "    except:\n",
    "        pass"
   ]
  },
  {
   "cell_type": "markdown",
   "metadata": {},
   "source": [
    "# Some Birthday Analytics\n",
    "\n",
    "Now that we have a somewhat interesting dataset, we can try and look at some simple statistics about our friends. For example we can plot the distribution of our friends birthdays during the year.\n",
    "\n",
    "First we need to make a dataframe copy that only contains the actual datetime types:"
   ]
  },
  {
   "cell_type": "code",
   "execution_count": 19,
   "metadata": {
    "collapsed": false
   },
   "outputs": [
    {
     "name": "stdout",
     "output_type": "stream",
     "text": [
      "877\n"
     ]
    }
   ],
   "source": [
    "data2 = data[['birthday']].copy()\n",
    "data2 = data2.loc[data2['birthday'].apply(lambda x: type(x)== dt.datetime)]\n",
    "print(len(data2))"
   ]
  },
  {
   "cell_type": "code",
   "execution_count": 20,
   "metadata": {
    "collapsed": false
   },
   "outputs": [
    {
     "data": {
      "text/html": [
       "<div>\n",
       "<table border=\"1\" class=\"dataframe\">\n",
       "  <thead>\n",
       "    <tr style=\"text-align: right;\">\n",
       "      <th></th>\n",
       "      <th>link_prof</th>\n",
       "      <th>name</th>\n",
       "      <th>info_link</th>\n",
       "      <th>birthday</th>\n",
       "      <th>f_acname</th>\n",
       "    </tr>\n",
       "    <tr>\n",
       "      <th>f_ID</th>\n",
       "      <th></th>\n",
       "      <th></th>\n",
       "      <th></th>\n",
       "      <th></th>\n",
       "      <th></th>\n",
       "    </tr>\n",
       "  </thead>\n",
       "  <tbody>\n",
       "    <tr>\n",
       "      <th>1124</th>\n",
       "      <td>https://www.facebook.com/giuseppe.raia.98?fref...</td>\n",
       "      <td>Giuseppe Raia</td>\n",
       "      <td>https://www.facebook.com/giuseppe.raia.98/abou...</td>\n",
       "      <td>1985-07-29 00:00:00</td>\n",
       "      <td>giuseppe.raia.98</td>\n",
       "    </tr>\n",
       "    <tr>\n",
       "      <th>1125</th>\n",
       "      <td>NOT FOUND</td>\n",
       "      <td>Giancarlo Cerulo</td>\n",
       "      <td>NaN</td>\n",
       "      <td>NaN</td>\n",
       "      <td>NaN</td>\n",
       "    </tr>\n",
       "    <tr>\n",
       "      <th>1126</th>\n",
       "      <td>https://www.facebook.com/fujhika.tinoco?fref=p...</td>\n",
       "      <td>Fujhika Tinoco</td>\n",
       "      <td>https://www.facebook.com/fujhika.tinoco/about?...</td>\n",
       "      <td>1900-09-21 00:00:00</td>\n",
       "      <td>fujhika.tinoco</td>\n",
       "    </tr>\n",
       "  </tbody>\n",
       "</table>\n",
       "</div>"
      ],
      "text/plain": [
       "                                              link_prof              name  \\\n",
       "f_ID                                                                        \n",
       "1124  https://www.facebook.com/giuseppe.raia.98?fref...     Giuseppe Raia   \n",
       "1125                                          NOT FOUND  Giancarlo Cerulo   \n",
       "1126  https://www.facebook.com/fujhika.tinoco?fref=p...    Fujhika Tinoco   \n",
       "\n",
       "                                              info_link             birthday  \\\n",
       "f_ID                                                                           \n",
       "1124  https://www.facebook.com/giuseppe.raia.98/abou...  1985-07-29 00:00:00   \n",
       "1125                                                NaN                  NaN   \n",
       "1126  https://www.facebook.com/fujhika.tinoco/about?...  1900-09-21 00:00:00   \n",
       "\n",
       "              f_acname  \n",
       "f_ID                    \n",
       "1124  giuseppe.raia.98  \n",
       "1125               NaN  \n",
       "1126    fujhika.tinoco  "
      ]
     },
     "execution_count": 20,
     "metadata": {},
     "output_type": "execute_result"
    }
   ],
   "source": [
    "data[-3:]"
   ]
  },
  {
   "cell_type": "markdown",
   "metadata": {},
   "source": [
    "The Dataframe will look like this:"
   ]
  },
  {
   "cell_type": "code",
   "execution_count": 21,
   "metadata": {
    "collapsed": false
   },
   "outputs": [
    {
     "data": {
      "text/html": [
       "<div>\n",
       "<table border=\"1\" class=\"dataframe\">\n",
       "  <thead>\n",
       "    <tr style=\"text-align: right;\">\n",
       "      <th></th>\n",
       "      <th>birthday</th>\n",
       "    </tr>\n",
       "    <tr>\n",
       "      <th>f_ID</th>\n",
       "      <th></th>\n",
       "    </tr>\n",
       "  </thead>\n",
       "  <tbody>\n",
       "    <tr>\n",
       "      <th>1123</th>\n",
       "      <td>1981-01-31 00:00:00</td>\n",
       "    </tr>\n",
       "    <tr>\n",
       "      <th>1124</th>\n",
       "      <td>1985-07-29 00:00:00</td>\n",
       "    </tr>\n",
       "    <tr>\n",
       "      <th>1126</th>\n",
       "      <td>1900-09-21 00:00:00</td>\n",
       "    </tr>\n",
       "  </tbody>\n",
       "</table>\n",
       "</div>"
      ],
      "text/plain": [
       "                 birthday\n",
       "f_ID                     \n",
       "1123  1981-01-31 00:00:00\n",
       "1124  1985-07-29 00:00:00\n",
       "1126  1900-09-21 00:00:00"
      ]
     },
     "execution_count": 21,
     "metadata": {},
     "output_type": "execute_result"
    }
   ],
   "source": [
    "data2[-3:]"
   ]
  },
  {
   "cell_type": "markdown",
   "metadata": {},
   "source": [
    "Now we can bin the data by month and plot the histogram:"
   ]
  },
  {
   "cell_type": "code",
   "execution_count": 22,
   "metadata": {
    "collapsed": false
   },
   "outputs": [
    {
     "data": {
      "text/plain": [
       "<matplotlib.axes._subplots.AxesSubplot at 0x95ea630>"
      ]
     },
     "execution_count": 22,
     "metadata": {},
     "output_type": "execute_result"
    },
    {
     "data": {
      "image/png": "[encoded data removed]",
      "text/plain": [
       "<matplotlib.figure.Figure at 0x9985f98>"
      ]
     },
     "metadata": {},
     "output_type": "display_data"
    }
   ],
   "source": [
    "%matplotlib inline\n",
    "import matplotlib.pyplot as plt\n",
    "data2.groupby(data2['birthday'].dt.month).count().plot(kind=\"bar\")"
   ]
  },
  {
   "cell_type": "markdown",
   "metadata": {},
   "source": [
    "Or we can bin by week and get a fine-grained graph:"
   ]
  },
  {
   "cell_type": "code",
   "execution_count": 23,
   "metadata": {
    "collapsed": false
   },
   "outputs": [
    {
     "data": {
      "text/plain": [
       "<matplotlib.axes._subplots.AxesSubplot at 0x9cea3c8>"
      ]
     },
     "execution_count": 23,
     "metadata": {},
     "output_type": "execute_result"
    },
    {
     "data": {
      "text/plain": [
       "<matplotlib.figure.Figure at 0x92e5f60>"
      ]
     },
     "metadata": {},
     "output_type": "display_data"
    },
    {
     "data": {
      "image/png": "[encoded data removed]",
      "text/plain": [
       "<matplotlib.figure.Figure at 0x92e5860>"
      ]
     },
     "metadata": {},
     "output_type": "display_data"
    }
   ],
   "source": [
    "plt.figure(figsize=(14,6))\n",
    "kw = lambda x: x.isocalendar()[1]\n",
    "data2.groupby(data2['birthday'].map(kw)).count().plot(kind = 'bar')"
   ]
  },
  {
   "cell_type": "markdown",
   "metadata": {},
   "source": [
    "If we want to do some data manipulation, extract this histogram data to another data frame:"
   ]
  },
  {
   "cell_type": "code",
   "execution_count": 24,
   "metadata": {
    "collapsed": true
   },
   "outputs": [],
   "source": [
    "byweek = data2.groupby(data2['birthday'].map(kw)).count()"
   ]
  },
  {
   "cell_type": "markdown",
   "metadata": {},
   "source": [
    "We can add a column that contains the averaged counts, and another that has the weeks shifted back by the length of a pregnancy which is 39 weeks:"
   ]
  },
  {
   "cell_type": "code",
   "execution_count": 38,
   "metadata": {
    "collapsed": false
   },
   "outputs": [
    {
     "name": "stderr",
     "output_type": "stream",
     "text": [
      "C:\\ProgramData\\Anaconda3\\lib\\site-packages\\ipykernel\\__main__.py:3: SettingWithCopyWarning: \n",
      "A value is trying to be set on a copy of a slice from a DataFrame\n",
      "\n",
      "See the caveats in the documentation: http://pandas.pydata.org/pandas-docs/stable/indexing.html#indexing-view-versus-copy\n",
      "  app.launch_new_instance()\n"
     ]
    }
   ],
   "source": [
    "byweek['smoothed'] = (byweek['birthday'] + \\\n",
    "                      byweek['birthday'].shift(-1) + \\\n",
    "                      byweek['birthday'].shift(-1))/3\n",
    "byweek['conception'] = byweek.index - 36\n",
    "byweek['conception'][:35] = byweek['conception'][:35] + 52\n",
    "byweek = byweek[byweek.index != 53]"
   ]
  },
  {
   "cell_type": "markdown",
   "metadata": {},
   "source": [
    "It would be nice at this point to reorder the dataset so that will start at week = 0 in the 'conception' column:"
   ]
  },
  {
   "cell_type": "code",
   "execution_count": 54,
   "metadata": {
    "collapsed": false
   },
   "outputs": [
    {
     "data": {
      "text/html": [
       "<div>\n",
       "<table border=\"1\" class=\"dataframe\">\n",
       "  <thead>\n",
       "    <tr style=\"text-align: right;\">\n",
       "      <th></th>\n",
       "      <th>birthday</th>\n",
       "      <th>smoothed</th>\n",
       "      <th>conception</th>\n",
       "    </tr>\n",
       "    <tr>\n",
       "      <th>birthday</th>\n",
       "      <th></th>\n",
       "      <th></th>\n",
       "      <th></th>\n",
       "    </tr>\n",
       "  </thead>\n",
       "  <tbody>\n",
       "    <tr>\n",
       "      <th>36</th>\n",
       "      <td>20</td>\n",
       "      <td>14.666667</td>\n",
       "      <td>0</td>\n",
       "    </tr>\n",
       "    <tr>\n",
       "      <th>37</th>\n",
       "      <td>12</td>\n",
       "      <td>18.666667</td>\n",
       "      <td>1</td>\n",
       "    </tr>\n",
       "    <tr>\n",
       "      <th>38</th>\n",
       "      <td>22</td>\n",
       "      <td>17.333333</td>\n",
       "      <td>2</td>\n",
       "    </tr>\n",
       "  </tbody>\n",
       "</table>\n",
       "</div>"
      ],
      "text/plain": [
       "          birthday   smoothed  conception\n",
       "birthday                                 \n",
       "36              20  14.666667           0\n",
       "37              12  18.666667           1\n",
       "38              22  17.333333           2"
      ]
     },
     "execution_count": 54,
     "metadata": {},
     "output_type": "execute_result"
    }
   ],
   "source": [
    "byweek1 = byweek[byweek['conception']>16]\n",
    "byweek2 = byweek[byweek['conception']<17]\n",
    "byweek3=pd.concat([byweek2,byweek1], axis=0, join='outer', join_axes=None, ignore_index=False)\n",
    "byweek3[:3]"
   ]
  },
  {
   "cell_type": "markdown",
   "metadata": {},
   "source": [
    "And we can plot now the smoothed data vs conception week, with its average value for comparison:"
   ]
  },
  {
   "cell_type": "code",
   "execution_count": 91,
   "metadata": {
    "collapsed": false
   },
   "outputs": [
    {
     "data": {
      "text/plain": [
       "<matplotlib.lines.Line2D at 0xbd3a748>"
      ]
     },
     "execution_count": 91,
     "metadata": {},
     "output_type": "execute_result"
    },
    {
     "data": {
      "image/png": "[encoded data removed]",
      "text/plain": [
       "<matplotlib.figure.Figure at 0xbd3a6d8>"
      ]
     },
     "metadata": {},
     "output_type": "display_data"
    }
   ],
   "source": [
    "import numpy as np\n",
    "plt.figure(figsize=(14,6))\n",
    "\n",
    "x = byweek3['conception']\n",
    "y= byweek3['smoothed']\n",
    "plt.plot(x, y, marker='.', color='red', lw=1 )\n",
    "d = np.zeros(53)\n",
    "d1 = np.ones(52)*16.5\n",
    "plt.fill_between(x, y, where=y>=d1, interpolate=False, color='blue') # where=y>=d\n",
    "\n",
    "ave = byweek3['smoothed'].mean()\n",
    "plt.axhline(ave, lw =3, color = 'black')"
   ]
  },
  {
   "cell_type": "markdown",
   "metadata": {},
   "source": [
    "The conceptions that result crowded significantly above average are seen at the following weeks:  \n",
    "week# ( 7-8, 23-27, 32-33, 40-41, 48 to the end of the year)."
   ]
  },
  {
   "cell_type": "code",
   "execution_count": 78,
   "metadata": {
    "collapsed": false
   },
   "outputs": [
    {
     "data": {
      "text/plain": [
       "datetime.datetime(1900, 2, 17, 0, 0)"
      ]
     },
     "execution_count": 78,
     "metadata": {},
     "output_type": "execute_result"
    }
   ],
   "source": [
    "dt.datetime.strptime('7-6', \"%W-%w\")"
   ]
  },
  {
   "cell_type": "code",
   "execution_count": 83,
   "metadata": {
    "collapsed": false
   },
   "outputs": [
    {
     "name": "stdout",
     "output_type": "stream",
     "text": [
      "Between the 12, feb and the 25, feb \n",
      "Between the 04, giu and the 08, lug \n",
      "Between the 06, ago and the 19, ago \n",
      "Between the 01, ott and the 14, ott \n",
      "Between the 26, nov and the 06, gen \n"
     ]
    }
   ],
   "source": [
    "ranges = [[7,8], [23,27], [32,33], [40,41], [48,53]]\n",
    "for d in ranges:\n",
    "    ri = dt.datetime.strptime(str(d[0])+'-1', \"%W-%w\")\n",
    "    rf = dt.datetime.strptime(str(d[1])+'-0', \"%W-%w\")\n",
    "    print(ri.strftime('Between the %d, %b ') + rf.strftime('and the %d, %b '))"
   ]
  },
  {
   "cell_type": "markdown",
   "metadata": {},
   "source": [
    "# Conclusions"
   ]
  },
  {
   "cell_type": "markdown",
   "metadata": {},
   "source": [
    "So we can quickly conclude that *people are more encouraged to conceive* babies:\n",
    "\n",
    "* during the week of **Valentine's day**, accepted in the west as a celebration of romantic love\n",
    "\n",
    "* after which there is a significant depression of \"conceptions\" until June\n",
    "\n",
    "* In **June** people probably start taking some time to relax, after a long productive winter and spring\n",
    "\n",
    "* And there are a lot of conception for the whole **summer** until the first half of August\n",
    "\n",
    "* Then people start working and busy, \n",
    "\n",
    "* then there is a new stress-relief pattern in the **first two weeks of October*?*\n",
    "\n",
    "* Conception goes up again in **December climbing up until and after new year** when pepole go travelling for pleasure, besides going to see families.\n",
    "\n",
    "While this is a partial analysis since my dataset has two strong demographics (Italian and American) I would guess that it carries a pattern probably extendable to most of western (Boreal Emisphere, temperate climate). It would be interesting to slice the data by geographical regions and look for statistical differences, but this goes beyond the scope of this brief introduction to Web Scraping."
   ]
  },
  {
   "cell_type": "code",
   "execution_count": null,
   "metadata": {
    "collapsed": true
   },
   "outputs": [],
   "source": []
  },
  {
   "cell_type": "code",
   "execution_count": null,
   "metadata": {
    "collapsed": true
   },
   "outputs": [],
   "source": []
  },
  {
   "cell_type": "code",
   "execution_count": null,
   "metadata": {
    "collapsed": true
   },
   "outputs": [],
   "source": []
  },
  {
   "cell_type": "markdown",
   "metadata": {},
   "source": [
    "## APPENDIX: Requests library\n",
    "\n",
    "Here is how to submit a request with the *requests* library:"
   ]
  },
  {
   "cell_type": "code",
   "execution_count": 14,
   "metadata": {
    "collapsed": false
   },
   "outputs": [],
   "source": [
    "import requests\n",
    "url = 'https://www.google.ca/'\n",
    "r = requests.get(url)"
   ]
  },
  {
   "cell_type": "markdown",
   "metadata": {},
   "source": [
    "Now that we have made a request to get the URL, we need to look at the content, and we can use the method r.content:"
   ]
  },
  {
   "cell_type": "code",
   "execution_count": 25,
   "metadata": {
    "collapsed": false
   },
   "outputs": [
    {
     "name": "stdout",
     "output_type": "stream",
     "text": [
      "<!DOCTYPE html>\n",
      "<html itemscope=\"\" itemtype=\"http://schema.org/WebPage\" lang=\"en-CA\">\n",
      " <head>\n",
      "  <meta content=\"text/html; charset=utf-8\" http-equiv=\"Content-Type\"/>\n",
      "  <meta content=\"/images/branding/googleg/1x/googleg_standard_color_128dp.png\" itemprop=\"image\"/>\n",
      "  <title>\n",
      "   Google\n",
      "  </title>\n",
      "  <script>\n",
      "   (function(){window.google={kEI:'Hho8Wb2bN8K_jwTjk4XIBQ',kEXPI:'1353382,1353799,3700324,37003\n"
     ]
    }
   ],
   "source": [
    "from bs4 import BeautifulSoup\n",
    "soup = BeautifulSoup(r.content, \"lxml\")\n",
    "print(soup.prettify()[:400])"
   ]
  },
  {
   "cell_type": "markdown",
   "metadata": {},
   "source": [
    "Here I was not getting the same code as when browsing and using ctrl+U, and was missing information, so I tried other libraries."
   ]
  },
  {
   "cell_type": "markdown",
   "metadata": {},
   "source": [
    "## Need for trying other libraries\n",
    "\n",
    "What I first noticed is that the code returned from this kind of request is not identical to what I get by manually navigating to a page and using crtl+U to retrieve the code. In my case I want to see all the data that I see on my facebook page and the above method was not doing that. \n",
    "\n",
    "So I tried **urllib3** that can be used in this way:"
   ]
  },
  {
   "cell_type": "code",
   "execution_count": 26,
   "metadata": {
    "collapsed": false
   },
   "outputs": [],
   "source": [
    "#import the library used to query a website\n",
    "import urllib3\n",
    "import certifi\n",
    "\n",
    "http = urllib3.PoolManager(cert_reqs='CERT_REQUIRED', ca_certs=certifi.where())\n",
    "url = 'https://www.google.ca/'"
   ]
  },
  {
   "cell_type": "code",
   "execution_count": 27,
   "metadata": {
    "collapsed": false
   },
   "outputs": [],
   "source": [
    "page = http.request('GET', url)\n",
    "html = page.read()\n",
    "html = str(html)"
   ]
  },
  {
   "cell_type": "code",
   "execution_count": 30,
   "metadata": {
    "collapsed": false
   },
   "outputs": [
    {
     "name": "stdout",
     "output_type": "stream",
     "text": [
      "<!DOCTYPE html>\n",
      "<html itemscope=\"\" itemtype=\"http://schema.org/WebPage\" lang=\"en-CA\">\n",
      " <head>\n",
      "  <met\n"
     ]
    }
   ],
   "source": [
    "soup = BeautifulSoup(page.data, \"lxml\")\n",
    "print(soup.prettify()[:100])"
   ]
  },
  {
   "cell_type": "markdown",
   "metadata": {},
   "source": [
    "Again one can retrieve the source code, but you still don't get the same info as you manually navigate with your browser, this is because the request is not sent as when you do with the browser, and the website *recognizes* that is a bot request. Apparently **urllib3** offers the option to extend the request with an *header* that refers to a browser, and even if this still didn't do what I wanted here is some example code:"
   ]
  },
  {
   "cell_type": "code",
   "execution_count": null,
   "metadata": {
    "collapsed": true
   },
   "outputs": [],
   "source": [
    "import urllib.request\n",
    "url = \"\"\"https://www.facebook.com/\"\"\"\n",
    "req = urllib.request.Request(\n",
    "    url, \n",
    "    data=None, \n",
    "    headers={\n",
    "        'User-Agent': 'Mozilla/5.0 (Macintosh; Intel Mac OS X 10_9_3) AppleWebKit/537.36 (KHTML, like Gecko) Chrome/35.0.1916.47 Safari/537.36'\n",
    "    }\n",
    ")\n",
    "\n",
    "f = urllib.request.urlopen(req)\n",
    "test = f.read().decode('utf-8')"
   ]
  },
  {
   "cell_type": "markdown",
   "metadata": {},
   "source": [
    "Therefore we need to find a way to simulate a browser and get an identical behaviour.\n",
    "\n",
    "For this purpose I whitched to the **Selenium** library."
   ]
  },
  {
   "cell_type": "code",
   "execution_count": null,
   "metadata": {
    "collapsed": true
   },
   "outputs": [],
   "source": []
  }
 ],
 "metadata": {
  "kernelspec": {
   "display_name": "Python 3",
   "language": "python",
   "name": "python3"
  },
  "language_info": {
   "codemirror_mode": {
    "name": "ipython",
    "version": 3
   },
   "file_extension": ".py",
   "mimetype": "text/x-python",
   "name": "python",
   "nbconvert_exporter": "python",
   "pygments_lexer": "ipython3",
   "version": "3.6.0"
  }
 },
 "nbformat": 4,
 "nbformat_minor": 2
}
